{
  "nbformat": 4,
  "nbformat_minor": 0,
  "metadata": {
    "colab": {
      "name": "Untitled2.ipynb",
      "provenance": [],
      "private_outputs": true,
      "collapsed_sections": [],
      "authorship_tag": "ABX9TyO+qJPqNWM5aFno5pmZgrTG",
      "include_colab_link": true
    },
    "kernelspec": {
      "name": "python3",
      "display_name": "Python 3"
    }
  },
  "cells": [
    {
      "cell_type": "markdown",
      "metadata": {
        "id": "view-in-github",
        "colab_type": "text"
      },
      "source": [
        "<a href=\"https://colab.research.google.com/github/pratyush021/HackerRank/blob/master/Untitled2.ipynb\" target=\"_parent\"><img src=\"https://colab.research.google.com/assets/colab-badge.svg\" alt=\"Open In Colab\"/></a>"
      ]
    },
    {
      "cell_type": "code",
      "metadata": {
        "id": "Ys2B35gNllUw",
        "colab_type": "code",
        "colab": {}
      },
      "source": [
        "\n"
      ],
      "execution_count": 0,
      "outputs": []
    },
    {
      "cell_type": "markdown",
      "metadata": {
        "id": "G2uTaNnTlpU0",
        "colab_type": "text"
      },
      "source": [
        "Hyperparameters = Parameters whose value is set before training begins <br>\n",
        "that is before model is fit "
      ]
    },
    {
      "cell_type": "markdown",
      "metadata": {
        "id": "nRbirbQ7mUZ-",
        "colab_type": "text"
      },
      "source": [
        "\n",
        "1. no of layers\n",
        "2. no of nodes \n",
        "3. activation funtion \n",
        "4. learning rate of optimiaztion \n",
        "5. the optimizer funciton \n",
        "6. no of epoches \n",
        "7. batch_size \n",
        "\n"
      ]
    },
    {
      "cell_type": "code",
      "metadata": {
        "id": "mQRaS1Dflz7R",
        "colab_type": "code",
        "colab": {}
      },
      "source": [
        ""
      ],
      "execution_count": 0,
      "outputs": []
    }
  ]
}